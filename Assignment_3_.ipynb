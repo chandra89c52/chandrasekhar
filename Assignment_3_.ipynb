{
  "nbformat": 4,
  "nbformat_minor": 0,
  "metadata": {
    "colab": {
      "name": "Assignment_3 .ipynb",
      "provenance": [],
      "collapsed_sections": []
    },
    "kernelspec": {
      "name": "python3",
      "display_name": "Python 3"
    }
  },
  "cells": [
    {
      "cell_type": "markdown",
      "metadata": {
        "id": "nUDHXZhaPQrW"
      },
      "source": [
        "**Question-1: Create a numpy array starting from 2 till 50 with a stepsize of 3** "
      ]
    },
    {
      "cell_type": "code",
      "metadata": {
        "id": "0pJ_WPn2VFfj",
        "outputId": "998e91f6-f8df-4c20-928d-bad913121a11",
        "colab": {
          "base_uri": "https://localhost:8080/"
        }
      },
      "source": [
        "import numpy as np\n",
        "\n",
        "# creating a array using numpy arange\n",
        "arr = np.arange(2, 50, 3)\n",
        "\n",
        "# printing array\n",
        "print(arr)\n"
      ],
      "execution_count": null,
      "outputs": [
        {
          "output_type": "stream",
          "text": [
            "[ 2  5  8 11 14 17 20 23 26 29 32 35 38 41 44 47]\n"
          ],
          "name": "stdout"
        }
      ]
    },
    {
      "cell_type": "markdown",
      "metadata": {
        "id": "n5CHros0W_-T"
      },
      "source": [
        "**Question-2: Aceept two lists of 5 elements.Convert them to numpy arrays.Concatenate these arrays and print it.Also sort these arrays and print it.** "
      ]
    },
    {
      "cell_type": "code",
      "metadata": {
        "id": "AegxlHy8JBmD",
        "outputId": "f303b98d-4d6e-4474-a63a-b95535423c9b",
        "colab": {
          "base_uri": "https://localhost:8080/"
        }
      },
      "source": [
        "# importing numpy with alias name\n",
        "import numpy as np\n",
        "\n",
        "# creating a 2 empty list:\n",
        "lst_1 = []\n",
        "lst_2 = []\n",
        "\n",
        "# getting values for lst_1 from user:\n",
        "for i in range(5):\n",
        "  x=int(input(\"\\nEnter the value for lst_1 : \"))\n",
        "  lst_1.append(x)\n",
        "\n",
        "# getting values for lst_2 from user:\n",
        "for i in range(5):\n",
        "  x=int(input(\"\\nEnter the value for lst_2 : \"))\n",
        "  lst_2.append(x)\n",
        "\n",
        "# converting list into array:\n",
        "arr_1 = np.array(lst_1)\n",
        "arr_2 = np.array(lst_2)\n",
        "\n",
        "# concatenating 2 array:\n",
        "arr = np.concatenate((arr_1, arr_2))\n",
        "print(\"\\nArray value for concatenated arr :\",arr)\n",
        "\n",
        "# sorting up concatenated array\n",
        "sortArr = np.sort(arr)\n",
        "print(\"\\nSorted Array for concatenated arr :\",sortArr)\n"
      ],
      "execution_count": null,
      "outputs": [
        {
          "output_type": "stream",
          "text": [
            "\n",
            "Enter the value for lst_1 : 1\n",
            "\n",
            "Enter the value for lst_1 : 2\n",
            "\n",
            "Enter the value for lst_1 : 3\n",
            "\n",
            "Enter the value for lst_1 : 4\n",
            "\n",
            "Enter the value for lst_1 : 5\n",
            "\n",
            "Enter the value for lst_2 : 9\n",
            "\n",
            "Enter the value for lst_2 : 8\n",
            "\n",
            "Enter the value for lst_2 : 7\n",
            "\n",
            "Enter the value for lst_2 : 6\n",
            "\n",
            "Enter the value for lst_2 : 10\n",
            "\n",
            "Array value for concatenated arr : [ 1  2  3  4  5  9  8  7  6 10]\n",
            "\n",
            "Sorted Array for concatenated arr : [ 1  2  3  4  5  6  7  8  9 10]\n"
          ],
          "name": "stdout"
        }
      ]
    },
    {
      "cell_type": "markdown",
      "metadata": {
        "id": "jfLbTrXYZZXq"
      },
      "source": [
        "**Question-3:Write a code snippet to find the dimensions of a ndarray and its size.** "
      ]
    },
    {
      "cell_type": "code",
      "metadata": {
        "id": "OEiOKis-axxR",
        "outputId": "7e572a86-4ba1-4c55-805d-e320976349b9",
        "colab": {
          "base_uri": "https://localhost:8080/"
        }
      },
      "source": [
        "import numpy as np\n",
        "\n",
        "# creating a 2d array\n",
        "arr = np.array([[1,2,3],[4,5,6]])\n",
        "\n",
        "# Printing array dimensions (axes)\n",
        "print(\"\\nDimensions in array : \", arr.ndim)\n",
        " \n",
        "# Printing size of array\n",
        "print(\"\\nSize of array : \", arr.size)"
      ],
      "execution_count": null,
      "outputs": [
        {
          "output_type": "stream",
          "text": [
            "\n",
            "Dimensions in array :  2\n",
            "\n",
            "Size of array :  6\n"
          ],
          "name": "stdout"
        }
      ]
    },
    {
      "cell_type": "markdown",
      "metadata": {
        "id": "B-GleHGtaLq2"
      },
      "source": [
        "**Question-4: How to convert 1-D array into 2-D array? Domonstrate with the help of code snippet.**\n",
        "\n",
        "**Hint: np.newaxis, np.expand_dims**  "
      ]
    },
    {
      "cell_type": "code",
      "metadata": {
        "id": "7eS-hZbaao6O",
        "outputId": "c501206d-e9eb-47d0-cbd2-37ca0d41d29b",
        "colab": {
          "base_uri": "https://localhost:8080/"
        }
      },
      "source": [
        "# importing numpy\n",
        "import numpy as np\n",
        "\n",
        "# creating a 1d array\n",
        "arr = np.arange(5)\n",
        "print(\"\\nShape of Array :\",arr.shape)\n",
        "\n",
        "# converting using newaxis in row wise\n",
        "row_arr = arr[np.newaxis, :]\n",
        "print(\"\\nShape of 2d Array in row major :\",row_arr.shape)\n",
        "\n",
        "# converting using newaxis in column wise\n",
        "col_arr = arr[:, np.newaxis]\n",
        "print(\"\\nShape of 2d Array in column major :\",col_arr.shape)"
      ],
      "execution_count": null,
      "outputs": [
        {
          "output_type": "stream",
          "text": [
            "\n",
            "Shape of Array : (5,)\n",
            "\n",
            "Shape of 2d Array in row major : (1, 5)\n",
            "\n",
            "Shape of 2d Array in column major : (5, 1)\n"
          ],
          "name": "stdout"
        }
      ]
    },
    {
      "cell_type": "code",
      "metadata": {
        "id": "dANpt-xlbBzM",
        "outputId": "c1893c3b-2895-4190-a12b-71c687463782",
        "colab": {
          "base_uri": "https://localhost:8080/"
        }
      },
      "source": [
        "# importing numpy\n",
        "import numpy as np\n",
        "\n",
        "# creating a 1d array\n",
        "arr = np.arange(5)\n",
        "print(\"\\nShape of Array :\",arr.shape)\n",
        "\n",
        "# converting using newaxis in row wise\n",
        "row_arr = np.expand_dims(arr, axis=0)\n",
        "print(\"\\nShape of 2d Array in row major :\",row_arr.shape)\n",
        "\n",
        "# converting using newaxis in column wise\n",
        "col_arr = np.expand_dims(arr, axis=1)\n",
        "print(\"\\nShape of 2d Array in column major :\",col_arr.shape)"
      ],
      "execution_count": null,
      "outputs": [
        {
          "output_type": "stream",
          "text": [
            "\n",
            "Shape of Array : (5,)\n",
            "\n",
            "Shape of 2d Array in row major : (1, 5)\n",
            "\n",
            "Shape of 2d Array in column major : (5, 1)\n"
          ],
          "name": "stdout"
        }
      ]
    },
    {
      "cell_type": "markdown",
      "metadata": {
        "id": "4Zu4rYQMbGm4"
      },
      "source": [
        "**Question-5: consider two square numpy arrays.stack them vertically and horizontally**\n",
        "\n",
        "**Hint Use vstack(),hstack()**"
      ]
    },
    {
      "cell_type": "code",
      "metadata": {
        "id": "RkZac94EcEyq",
        "outputId": "4671ee19-3a8a-4f41-d645-ed88006a8a77",
        "colab": {
          "base_uri": "https://localhost:8080/"
        }
      },
      "source": [
        "# importing numpy\n",
        "import numpy as np\n",
        "\n",
        "# creating a array with square values\n",
        "arr_1 = np.square([1, 2, 3, 4, 5])\n",
        "arr_2 = np.square([6, 7, 8, 9, 10])\n",
        "\n",
        "# stacking and printing the value\n",
        "print(\"\\nHorizontal Append :\", np.hstack((arr_1, arr_2)))\n",
        "print(\"\\nVertical Append :\", np.vstack((arr_1, arr_2)))"
      ],
      "execution_count": null,
      "outputs": [
        {
          "output_type": "stream",
          "text": [
            "\n",
            "Horizontal Append : [  1   4   9  16  25  36  49  64  81 100]\n",
            "\n",
            "Vertical Append : [[  1   4   9  16  25]\n",
            " [ 36  49  64  81 100]]\n"
          ],
          "name": "stdout"
        }
      ]
    },
    {
      "cell_type": "markdown",
      "metadata": {
        "id": "0Qo366QkfRqN"
      },
      "source": [
        "**Question-6: How  to get unique items and counts of unique items?**"
      ]
    },
    {
      "cell_type": "code",
      "metadata": {
        "id": "SrVPtwcEfWbW",
        "outputId": "d13d7191-0307-42e1-bfe6-dec59489f783",
        "colab": {
          "base_uri": "https://localhost:8080/"
        }
      },
      "source": [
        "# importing numpy\n",
        "import numpy as np\n",
        "\n",
        "# creating a array \n",
        "arr_1 = np.array([1, 4, 9, 16, 25, 1, 4, 2, 3, 2, 5, 6, 5, 7, 8, 10])\n",
        "\n",
        "# getting unique charater and its count\n",
        "unique, counts = np.unique(arr_1, return_counts=True)\n",
        "\n",
        "# making a \n",
        "arr = np.asarray((unique, counts)).T\n",
        "\n",
        "print(arr)"
      ],
      "execution_count": null,
      "outputs": [
        {
          "output_type": "stream",
          "text": [
            "[[ 1  2]\n",
            " [ 2  2]\n",
            " [ 3  1]\n",
            " [ 4  2]\n",
            " [ 5  2]\n",
            " [ 6  1]\n",
            " [ 7  1]\n",
            " [ 8  1]\n",
            " [ 9  1]\n",
            " [10  1]\n",
            " [16  1]\n",
            " [25  1]]\n"
          ],
          "name": "stdout"
        }
      ]
    }
  ]
}