{
  "nbformat": 4,
  "nbformat_minor": 0,
  "metadata": {
    "colab": {
      "name": "Assignment_2.ipynb",
      "provenance": []
    },
    "kernelspec": {
      "name": "python3",
      "display_name": "Python 3"
    }
  },
  "cells": [
    {
      "cell_type": "markdown",
      "metadata": {
        "id": "CegIrzzLjFc0"
      },
      "source": [
        "**Question-1: Create a empty list.Aceept 10 numbers from the user and append to it the list if it is even number**  \n",
        " "
      ]
    },
    {
      "cell_type": "code",
      "metadata": {
        "id": "OHPR9JA8ie0f",
        "outputId": "6dd8805a-aa09-4acf-f0c5-8e531ca14032",
        "colab": {
          "base_uri": "https://localhost:8080/"
        }
      },
      "source": [
        "#create a empty list\n",
        "lst=[]\n",
        "#getting 10 values from the user\n",
        "for i in range(0,10):\n",
        "  x=int(input(\"enter the value:\"))\n",
        "  lst.append(x)\n",
        "#creating the empty list to append even numbers\n",
        "even_lst=[]\n",
        "# appending only even numbers\n",
        "for i in lst:\n",
        "    if(i%2==0):\n",
        "       even_lst.append(i)\n",
        "print(\"\\nThe even list\",even_lst)    "
      ],
      "execution_count": null,
      "outputs": [
        {
          "output_type": "stream",
          "text": [
            "enter the value:1\n",
            "enter the value:2\n",
            "enter the value:3\n",
            "enter the value:4\n",
            "enter the value:5\n",
            "enter the value:6\n",
            "enter the value:7\n",
            "enter the value:8\n",
            "enter the value:9\n",
            "enter the value:10\n",
            "\n",
            "The even list [2, 4, 6, 8, 10]\n"
          ],
          "name": "stdout"
        }
      ]
    },
    {
      "cell_type": "markdown",
      "metadata": {
        "id": "qdAaF119jEEf"
      },
      "source": [
        " **Question-2: \n",
        " Create a note book on LIST COMPREHENSION.This excercise will put you in a self learning mode.List comprehensions are used for creating new lists from other iterables.As list comprehensions return lists,they consist of brackets containing the expression,which executed for each element along with the loop to iterate over each element.\n",
        " syntax=(value for_loop condition)**    "
      ]
    },
    {
      "cell_type": "code",
      "metadata": {
        "id": "k40w2q5a3D7N",
        "outputId": "31f5c115-5d03-4a92-f932-369a181fdd9c",
        "colab": {
          "base_uri": "https://localhost:8080/"
        }
      },
      "source": [
        "#create a list\n",
        "lst=[1,2,3,4,5,6,7,8]\n",
        "#list comprehensions\n",
        "even_lst=[i for i in lst if i%2==0]\n",
        "print(even_lst)"
      ],
      "execution_count": null,
      "outputs": [
        {
          "output_type": "stream",
          "text": [
            "[2, 4, 6, 8]\n"
          ],
          "name": "stdout"
        }
      ]
    },
    {
      "cell_type": "markdown",
      "metadata": {
        "id": "oFOsWEcU8gBg"
      },
      "source": [
        "**Question-3: Given a number n,you have to program that generates a dictionary d which contains(i,i*i)where i from 1 to n(both included)**  "
      ]
    },
    {
      "cell_type": "code",
      "metadata": {
        "id": "lI_Ef1VYkXkW",
        "outputId": "f231d98e-836f-485d-e44c-26cdcfee77d6",
        "colab": {
          "base_uri": "https://localhost:8080/"
        }
      },
      "source": [
        "#creating a empty dict\n",
        "dict={}\n",
        "#getting the value for \"n\" from user\n",
        "n=int(input())\n",
        "for i in range(1,n+1):\n",
        "  dict[i]=i*i\n",
        "print(dict)"
      ],
      "execution_count": null,
      "outputs": [
        {
          "output_type": "stream",
          "text": [
            "8\n",
            "{1: 1, 2: 4, 3: 9, 4: 16, 5: 25, 6: 36, 7: 49, 8: 64}\n"
          ],
          "name": "stdout"
        }
      ]
    },
    {
      "cell_type": "markdown",
      "metadata": {
        "id": "vlN10k9kAhMk"
      },
      "source": [
        "**Question-4:Write a program to compute the distance between the current position after a sequence of movement and original point.if the distance is float then just print the nearest integer(use round()function for that and then convert into an integer).**\n",
        "\n"
      ]
    },
    {
      "cell_type": "code",
      "metadata": {
        "id": "j1fVnWX-Ag0K",
        "outputId": "676c8c3f-9d59-43e7-e1e7-e6a77588c96a",
        "colab": {
          "base_uri": "https://localhost:8080/"
        }
      },
      "source": [
        "#  creating a origin position\n",
        "pos = {\"x\":0,\"y\":0}\n",
        "\n",
        "# getting movement from user\n",
        "n = int(input())\n",
        "\n",
        "# for loop\n",
        "for i in range (n):\n",
        "    move =  input().split(\" \")    # ACCEPT MOVEMENT COMMAND AND STORE AS A LIST\n",
        "    \n",
        "    if move[0].lower() == \"up\":   # EXTRACT DIRECTION AND COMPARE\n",
        "        pos[\"y\"] += int(move[1])  # INCREMENT/DECREMENT APPROPRIATE CO-ORDINATES\n",
        "    \n",
        "    elif move[0].lower() == \"down\":\n",
        "        pos[\"y\"] -= int(move[1])\n",
        "    \n",
        "    elif move[0].lower() == \"left\":\n",
        "        pos[\"x\"] -= int(move[1])\n",
        "    \n",
        "    elif move[0].lower() == \"right\":\n",
        "        pos[\"x\"] += int(move[1])\n",
        "\n",
        "#  printing the result\n",
        "\n",
        "print(int(round((pos[\"x\"]**2 + pos[\"y\"]**2)**0.5)))   # DISTANCE FROM ORIGIN\n"
      ],
      "execution_count": null,
      "outputs": [
        {
          "output_type": "stream",
          "text": [
            "4\n",
            "UP 5\n",
            "DOWN 3\n",
            "LEFT 3\n",
            "RIGHT 2\n",
            "2\n"
          ],
          "name": "stdout"
        }
      ]
    }
  ]
}