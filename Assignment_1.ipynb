{
  "nbformat": 4,
  "nbformat_minor": 0,
  "metadata": {
    "colab": {
      "name": "Assignment_1.ipynb",
      "provenance": [],
      "collapsed_sections": []
    },
    "kernelspec": {
      "name": "python3",
      "display_name": "Python 3"
    }
  },
  "cells": [
    {
      "cell_type": "markdown",
      "metadata": {
        "id": "95U0KLfWCNmO"
      },
      "source": [
        "**Question-1:Given the following jumbled word,OBANWRI guess the correct word.**   \n",
        "A.RANIBOW  B.RAINBOW  C.BOWRANI  D.ROBWANI\n",
        "\n",
        "ANS: B.RAINBOW "
      ]
    },
    {
      "cell_type": "markdown",
      "metadata": {
        "id": "ES1kmx4aCnnp"
      },
      "source": [
        "**Question-2: Write a program to print \"LETS UPGRADE\".(Please note that you have to print all caps as given)**"
      ]
    },
    {
      "cell_type": "code",
      "metadata": {
        "id": "2_1CeubTZEEI",
        "outputId": "a433b289-e464-4b05-fe08-43e78996a9aa",
        "colab": {
          "base_uri": "https://localhost:8080/"
        }
      },
      "source": [
        "#Question-2: Write a program to print \"LETS UPGRADE\".(Please note that you have to print all caps as given)\n",
        "print(\"LETSUPGRADE\")"
      ],
      "execution_count": null,
      "outputs": [
        {
          "output_type": "stream",
          "text": [
            "LETSUPGRADE\n"
          ],
          "name": "stdout"
        }
      ]
    },
    {
      "cell_type": "markdown",
      "metadata": {
        "id": "aQ8EAJhnDfl8"
      },
      "source": [
        "**Question-3:Program takes cost price and selling price as input and displays whether the transaction is profit or loss.**\n"
      ]
    },
    {
      "cell_type": "code",
      "metadata": {
        "id": "AegxlHy8JBmD",
        "outputId": "7921b3af-1f79-4fbb-9303-810051c48543",
        "colab": {
          "base_uri": "https://localhost:8080/"
        }
      },
      "source": [
        "costprice=int(input(\"input :\"))\n",
        "sellingprice =int(input(\"input :\"))\n",
        "if costprice<sellingprice:\n",
        "  print(\"Profit\")\n",
        "elif costprice>sellingprice:\n",
        "   print(\"Loss\")\n",
        "else: \n",
        "  print(\"Neither\") "
      ],
      "execution_count": null,
      "outputs": [
        {
          "output_type": "stream",
          "text": [
            "input :20\n",
            "input :20\n",
            "Neither\n"
          ],
          "name": "stdout"
        }
      ]
    },
    {
      "cell_type": "markdown",
      "metadata": {
        "id": "m3hRmRLiEXJ_"
      },
      "source": [
        "**Question-4:Write a progam that takes amount in indian rupees and display in equivalent euro.** "
      ]
    },
    {
      "cell_type": "code",
      "metadata": {
        "id": "OEiOKis-axxR",
        "outputId": "0ff5777a-cb36-498f-cf78-b73c82127098",
        "colab": {
          "base_uri": "https://localhost:8080/"
        }
      },
      "source": [
        "rupees =int(input(\"input:\"))\n",
        "euro=rupees*80\n",
        "print(\"output:\",euro) "
      ],
      "execution_count": null,
      "outputs": [
        {
          "output_type": "stream",
          "text": [
            "input:20\n",
            "output: 1600\n"
          ],
          "name": "stdout"
        }
      ]
    }
  ]
}